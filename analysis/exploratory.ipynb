{
 "cells": [
  {
   "cell_type": "code",
   "execution_count": 1,
   "id": "9b905239-e250-4870-826b-7da410f8d85e",
   "metadata": {},
   "outputs": [],
   "source": [
    "import os\n",
    "import pyodbc\n",
    "import sklearn\n",
    "import pandas as pd\n",
    "from dotenv import load_dotenv"
   ]
  },
  {
   "cell_type": "markdown",
   "id": "c5974c1d-3676-465f-8658-4f257fb38d7a",
   "metadata": {},
   "source": [
    "# Space Challenge Analysis Notebook"
   ]
  },
  {
   "cell_type": "markdown",
   "id": "f52de9d6-3cd0-40b0-bd36-01e1f234a512",
   "metadata": {},
   "source": [
    "## Connect to the database\n",
    "The present working directory should contain a file `.env` with the line `AZURE_SPACECHALLENGE_CONNSTR='{your db connecion string}'`. "
   ]
  },
  {
   "cell_type": "code",
   "execution_count": 2,
   "id": "3bb392bc-8ba3-4b66-aedf-abe0aab86247",
   "metadata": {},
   "outputs": [],
   "source": [
    "load_dotenv()\n",
    "db_conn_str = os.environ['AZURE_SPACECHALLENGE_CONNSTR']"
   ]
  },
  {
   "cell_type": "code",
   "execution_count": 8,
   "id": "a9498615-2ef8-4bcf-942a-5e119b33199a",
   "metadata": {},
   "outputs": [],
   "source": [
    "# confirm everythings working\n",
    "# with pyodbc.connect(db_conn_str) as conn:\n",
    "#     with conn.cursor() as cursor:\n",
    "#         df = pd.read_sql('select top 10 * from bookings', conn)\n",
    "# df"
   ]
  },
  {
   "cell_type": "code",
   "execution_count": null,
   "id": "162b5ce9-4f9a-433f-89cc-0232401af769",
   "metadata": {},
   "outputs": [],
   "source": []
  },
  {
   "cell_type": "code",
   "execution_count": null,
   "id": "d22f9e1e-861a-4a4d-8b65-1a3bc3dafaa5",
   "metadata": {},
   "outputs": [],
   "source": []
  },
  {
   "cell_type": "code",
   "execution_count": null,
   "id": "76d2d50d-cd8a-42ec-8a59-51bcc53a6b39",
   "metadata": {},
   "outputs": [],
   "source": []
  },
  {
   "cell_type": "code",
   "execution_count": null,
   "id": "de486289-c907-48ff-b4c8-6b28f347a8c2",
   "metadata": {},
   "outputs": [],
   "source": []
  }
 ],
 "metadata": {
  "kernelspec": {
   "display_name": "venv",
   "language": "python",
   "name": "venv"
  },
  "language_info": {
   "codemirror_mode": {
    "name": "ipython",
    "version": 3
   },
   "file_extension": ".py",
   "mimetype": "text/x-python",
   "name": "python",
   "nbconvert_exporter": "python",
   "pygments_lexer": "ipython3",
   "version": "3.13.3"
  }
 },
 "nbformat": 4,
 "nbformat_minor": 5
}
