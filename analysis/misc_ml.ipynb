{
 "cells": [
  {
   "cell_type": "code",
   "execution_count": 1,
   "id": "9b905239-e250-4870-826b-7da410f8d85e",
   "metadata": {},
   "outputs": [],
   "source": [
    "import os\n",
    "import pyodbc\n",
    "import pandas as pd\n",
    "import seaborn as sns\n",
    "from dotenv import load_dotenv\n",
    "import matplotlib.pyplot as plt"
   ]
  },
  {
   "cell_type": "code",
   "execution_count": 2,
   "id": "08ee7dbe-4c48-43a8-922c-281e8e43e435",
   "metadata": {},
   "outputs": [],
   "source": [
    "from sklearn.ensemble import (\n",
    "    HistGradientBoostingRegressor,\n",
    "    HistGradientBoostingClassifier,\n",
    ")\n",
    "from sklearn.model_selection import cross_validate, train_test_split"
   ]
  },
  {
   "cell_type": "markdown",
   "id": "e4b4b7a5-ff00-4a30-8230-2c443857d905",
   "metadata": {},
   "source": [
    "**Setup**"
   ]
  },
  {
   "cell_type": "code",
   "execution_count": 3,
   "id": "ef89f0f8-c978-4fe7-8e99-4d3bbe5d8829",
   "metadata": {},
   "outputs": [],
   "source": [
    "SEED = 1729\n",
    "sns.set_theme(style='whitegrid')"
   ]
  },
  {
   "cell_type": "markdown",
   "id": "c5974c1d-3676-465f-8658-4f257fb38d7a",
   "metadata": {},
   "source": [
    "# Space Challenge Analysis Notebook"
   ]
  },
  {
   "cell_type": "markdown",
   "id": "f52de9d6-3cd0-40b0-bd36-01e1f234a512",
   "metadata": {},
   "source": [
    "## Connect to database\n",
    "The present working directory should contain a file `.env` with the line `SPACECHALLENGE_DB_CONN_STR='{your db connecion string}'`."
   ]
  },
  {
   "cell_type": "code",
   "execution_count": 4,
   "id": "3bb392bc-8ba3-4b66-aedf-abe0aab86247",
   "metadata": {},
   "outputs": [],
   "source": [
    "load_dotenv()\n",
    "db_conn_str = os.environ['SPACECHALLENGE_DB_CONN_STR']"
   ]
  },
  {
   "cell_type": "code",
   "execution_count": 5,
   "id": "a9498615-2ef8-4bcf-942a-5e119b33199a",
   "metadata": {},
   "outputs": [],
   "source": [
    "# confirm everythings working\n",
    "# with pyodbc.connect(db_conn_str) as conn:\n",
    "#     with conn.cursor() as cursor:\n",
    "#         df = pd.read_sql('select top 10 * from bookings', conn)\n",
    "# df"
   ]
  },
  {
   "cell_type": "markdown",
   "id": "5857f99d-29cf-40ea-a283-678dc8eaefd2",
   "metadata": {},
   "source": [
    "## Load dataset"
   ]
  },
  {
   "cell_type": "code",
   "execution_count": 7,
   "id": "d22f9e1e-861a-4a4d-8b65-1a3bc3dafaa5",
   "metadata": {},
   "outputs": [
    {
     "name": "stderr",
     "output_type": "stream",
     "text": [
      "/var/folders/9h/8rdmtj8j6g17zl5bvhyvtd9h0000gn/T/ipykernel_37168/1657903215.py:24: UserWarning: pandas only supports SQLAlchemy connectable (engine/connection) or database string URI or sqlite3 DBAPI2 connection. Other DBAPI2 objects are not tested. Please consider using SQLAlchemy.\n",
      "  dataset_df = pd.read_sql(dataset_query, conn)\n"
     ]
    }
   ],
   "source": [
    "dataset_query = \"\"\"\n",
    "select\n",
    "    ah.AssignmentID, b.BookingID, sta.AgentID\n",
    "    -- dependent var\n",
    "    ,b.PackageRevenue\n",
    "    ,b.BookingStatus\n",
    "    -- vars we know about customer\n",
    "    ,ah.CustomerName, ah.CommunicationMethod, ah.LeadSource, b.Destination, b.LaunchLocation\n",
    "    -- vars we know about agent\n",
    "    ,sta.JobTitle, sta.DepartmentName, sta.ManagerName, sta.YearsOfService, sta.AverageCustomerServiceRating\n",
    "    -- datetime vars\n",
    "    ,ah.AssignedDateTime, b.BookingCompleteDate, b.CancelledDate\n",
    "    -- other rev values\n",
    "    ,b.DestinationRevenue, b.TotalRevenue\n",
    "from assignment_history ah\n",
    "left join bookings b\n",
    "    on ah.AssignmentID = b.AssignmentID\n",
    "left join space_travel_agents sta\n",
    "    on sta.AgentID = ah.AgentID\n",
    "order by ah.AssignmentID\n",
    "\"\"\"\n",
    "with pyodbc.connect(db_conn_str) as conn:\n",
    "    with conn.cursor() as cursor:\n",
    "        dataset_df = pd.read_sql(dataset_query, conn)"
   ]
  },
  {
   "cell_type": "code",
   "execution_count": 8,
   "id": "76d2d50d-cd8a-42ec-8a59-51bcc53a6b39",
   "metadata": {},
   "outputs": [
    {
     "data": {
      "text/html": [
       "<div>\n",
       "<style scoped>\n",
       "    .dataframe tbody tr th:only-of-type {\n",
       "        vertical-align: middle;\n",
       "    }\n",
       "\n",
       "    .dataframe tbody tr th {\n",
       "        vertical-align: top;\n",
       "    }\n",
       "\n",
       "    .dataframe thead th {\n",
       "        text-align: right;\n",
       "    }\n",
       "</style>\n",
       "<table border=\"1\" class=\"dataframe\">\n",
       "  <thead>\n",
       "    <tr style=\"text-align: right;\">\n",
       "      <th></th>\n",
       "      <th>AssignmentID</th>\n",
       "      <th>BookingID</th>\n",
       "      <th>AgentID</th>\n",
       "      <th>PackageRevenue</th>\n",
       "      <th>BookingStatus</th>\n",
       "      <th>CustomerName</th>\n",
       "      <th>CommunicationMethod</th>\n",
       "      <th>LeadSource</th>\n",
       "      <th>Destination</th>\n",
       "      <th>LaunchLocation</th>\n",
       "      <th>JobTitle</th>\n",
       "      <th>DepartmentName</th>\n",
       "      <th>ManagerName</th>\n",
       "      <th>YearsOfService</th>\n",
       "      <th>AverageCustomerServiceRating</th>\n",
       "      <th>AssignedDateTime</th>\n",
       "      <th>BookingCompleteDate</th>\n",
       "      <th>CancelledDate</th>\n",
       "      <th>DestinationRevenue</th>\n",
       "      <th>TotalRevenue</th>\n",
       "    </tr>\n",
       "  </thead>\n",
       "  <tbody>\n",
       "    <tr>\n",
       "      <th>0</th>\n",
       "      <td>1</td>\n",
       "      <td>1.0</td>\n",
       "      <td>7</td>\n",
       "      <td>25000.0</td>\n",
       "      <td>Confirmed</td>\n",
       "      <td>Evelyn Brooks</td>\n",
       "      <td>Phone Call</td>\n",
       "      <td>Organic</td>\n",
       "      <td>Mars</td>\n",
       "      <td>Dallas-Fort Worth Launch Complex</td>\n",
       "      <td>Space Travel Agent</td>\n",
       "      <td>Interplanetary Sales</td>\n",
       "      <td>Lyra Chen</td>\n",
       "      <td>4</td>\n",
       "      <td>4.5</td>\n",
       "      <td>2081-02-01 09:00:00</td>\n",
       "      <td>2081-02-01 10:00:00</td>\n",
       "      <td>NaT</td>\n",
       "      <td>150000.0</td>\n",
       "      <td>175000.0</td>\n",
       "    </tr>\n",
       "    <tr>\n",
       "      <th>1</th>\n",
       "      <td>2</td>\n",
       "      <td>2.0</td>\n",
       "      <td>14</td>\n",
       "      <td>20000.0</td>\n",
       "      <td>Cancelled</td>\n",
       "      <td>Lucas Chen</td>\n",
       "      <td>Text</td>\n",
       "      <td>Bought</td>\n",
       "      <td>Europa</td>\n",
       "      <td>New York Orbital Gateway</td>\n",
       "      <td>Lead Space Travel Agent</td>\n",
       "      <td>Luxury Voyages</td>\n",
       "      <td>Zane Holloway</td>\n",
       "      <td>16</td>\n",
       "      <td>4.2</td>\n",
       "      <td>2081-02-01 10:30:00</td>\n",
       "      <td>NaT</td>\n",
       "      <td>2081-02-01 11:00:00</td>\n",
       "      <td>120000.0</td>\n",
       "      <td>140000.0</td>\n",
       "    </tr>\n",
       "    <tr>\n",
       "      <th>2</th>\n",
       "      <td>3</td>\n",
       "      <td>NaN</td>\n",
       "      <td>3</td>\n",
       "      <td>NaN</td>\n",
       "      <td>None</td>\n",
       "      <td>Amara Patel</td>\n",
       "      <td>Text</td>\n",
       "      <td>Organic</td>\n",
       "      <td>None</td>\n",
       "      <td>None</td>\n",
       "      <td>Senior Space Travel Agent</td>\n",
       "      <td>Premium Bookings</td>\n",
       "      <td>Zane Holloway</td>\n",
       "      <td>15</td>\n",
       "      <td>4.0</td>\n",
       "      <td>2081-02-01 11:15:00</td>\n",
       "      <td>NaT</td>\n",
       "      <td>NaT</td>\n",
       "      <td>NaN</td>\n",
       "      <td>NaN</td>\n",
       "    </tr>\n",
       "    <tr>\n",
       "      <th>3</th>\n",
       "      <td>4</td>\n",
       "      <td>3.0</td>\n",
       "      <td>25</td>\n",
       "      <td>30000.0</td>\n",
       "      <td>Confirmed</td>\n",
       "      <td>Jasper Kim</td>\n",
       "      <td>Phone Call</td>\n",
       "      <td>Bought</td>\n",
       "      <td>Titan</td>\n",
       "      <td>Dubai Interplanetary Hub</td>\n",
       "      <td>Space Travel Agent</td>\n",
       "      <td>Interplanetary Sales</td>\n",
       "      <td>Lyra Chen</td>\n",
       "      <td>5</td>\n",
       "      <td>4.4</td>\n",
       "      <td>2081-02-01 13:00:00</td>\n",
       "      <td>2081-02-01 13:30:00</td>\n",
       "      <td>NaT</td>\n",
       "      <td>140000.0</td>\n",
       "      <td>170000.0</td>\n",
       "    </tr>\n",
       "    <tr>\n",
       "      <th>4</th>\n",
       "      <td>5</td>\n",
       "      <td>4.0</td>\n",
       "      <td>7</td>\n",
       "      <td>25000.0</td>\n",
       "      <td>Cancelled</td>\n",
       "      <td>Zara Singh</td>\n",
       "      <td>Text</td>\n",
       "      <td>Organic</td>\n",
       "      <td>Mars</td>\n",
       "      <td>Dallas-Fort Worth Launch Complex</td>\n",
       "      <td>Space Travel Agent</td>\n",
       "      <td>Interplanetary Sales</td>\n",
       "      <td>Lyra Chen</td>\n",
       "      <td>4</td>\n",
       "      <td>4.5</td>\n",
       "      <td>2081-02-01 14:20:00</td>\n",
       "      <td>NaT</td>\n",
       "      <td>2081-02-01 15:10:00</td>\n",
       "      <td>150000.0</td>\n",
       "      <td>175000.0</td>\n",
       "    </tr>\n",
       "    <tr>\n",
       "      <th>5</th>\n",
       "      <td>6</td>\n",
       "      <td>5.0</td>\n",
       "      <td>17</td>\n",
       "      <td>25000.0</td>\n",
       "      <td>Confirmed</td>\n",
       "      <td>Milo Davis</td>\n",
       "      <td>Phone Call</td>\n",
       "      <td>Bought</td>\n",
       "      <td>Venus</td>\n",
       "      <td>Tokyo Spaceport Terminal</td>\n",
       "      <td>Space Travel Agent</td>\n",
       "      <td>Luxury Voyages</td>\n",
       "      <td>Lyra Chen</td>\n",
       "      <td>3</td>\n",
       "      <td>3.3</td>\n",
       "      <td>2081-02-02 09:45:00</td>\n",
       "      <td>2081-02-02 10:00:00</td>\n",
       "      <td>NaT</td>\n",
       "      <td>130000.0</td>\n",
       "      <td>155000.0</td>\n",
       "    </tr>\n",
       "    <tr>\n",
       "      <th>6</th>\n",
       "      <td>7</td>\n",
       "      <td>NaN</td>\n",
       "      <td>9</td>\n",
       "      <td>NaN</td>\n",
       "      <td>None</td>\n",
       "      <td>Aurora Ramirez</td>\n",
       "      <td>Text</td>\n",
       "      <td>Organic</td>\n",
       "      <td>None</td>\n",
       "      <td>None</td>\n",
       "      <td>Space Travel Agent</td>\n",
       "      <td>Premium Bookings</td>\n",
       "      <td>Zane Holloway</td>\n",
       "      <td>6</td>\n",
       "      <td>4.4</td>\n",
       "      <td>2081-02-02 10:10:00</td>\n",
       "      <td>NaT</td>\n",
       "      <td>NaT</td>\n",
       "      <td>NaN</td>\n",
       "      <td>NaN</td>\n",
       "    </tr>\n",
       "    <tr>\n",
       "      <th>7</th>\n",
       "      <td>8</td>\n",
       "      <td>6.0</td>\n",
       "      <td>14</td>\n",
       "      <td>30000.0</td>\n",
       "      <td>Confirmed</td>\n",
       "      <td>Theo White</td>\n",
       "      <td>Phone Call</td>\n",
       "      <td>Organic</td>\n",
       "      <td>Mars</td>\n",
       "      <td>New York Orbital Gateway</td>\n",
       "      <td>Lead Space Travel Agent</td>\n",
       "      <td>Luxury Voyages</td>\n",
       "      <td>Zane Holloway</td>\n",
       "      <td>16</td>\n",
       "      <td>4.2</td>\n",
       "      <td>2081-02-02 11:55:00</td>\n",
       "      <td>2081-02-02 12:00:00</td>\n",
       "      <td>NaT</td>\n",
       "      <td>150000.0</td>\n",
       "      <td>180000.0</td>\n",
       "    </tr>\n",
       "    <tr>\n",
       "      <th>8</th>\n",
       "      <td>9</td>\n",
       "      <td>7.0</td>\n",
       "      <td>28</td>\n",
       "      <td>20000.0</td>\n",
       "      <td>Pending</td>\n",
       "      <td>Isla Nguyen</td>\n",
       "      <td>Text</td>\n",
       "      <td>Bought</td>\n",
       "      <td>Europa</td>\n",
       "      <td>London Ascension Platform</td>\n",
       "      <td>Space Travel Agent</td>\n",
       "      <td>Interplanetary Sales</td>\n",
       "      <td>Lyra Chen</td>\n",
       "      <td>6</td>\n",
       "      <td>4.9</td>\n",
       "      <td>2081-02-02 13:40:00</td>\n",
       "      <td>NaT</td>\n",
       "      <td>NaT</td>\n",
       "      <td>125000.0</td>\n",
       "      <td>145000.0</td>\n",
       "    </tr>\n",
       "    <tr>\n",
       "      <th>9</th>\n",
       "      <td>10</td>\n",
       "      <td>8.0</td>\n",
       "      <td>1</td>\n",
       "      <td>15000.0</td>\n",
       "      <td>Confirmed</td>\n",
       "      <td>Rowan Scott</td>\n",
       "      <td>Phone Call</td>\n",
       "      <td>Organic</td>\n",
       "      <td>Ganymede</td>\n",
       "      <td>Sydney Stellar Port</td>\n",
       "      <td>Senior Space Travel Agent</td>\n",
       "      <td>Interplanetary Sales</td>\n",
       "      <td>Lyra Chen</td>\n",
       "      <td>12</td>\n",
       "      <td>4.0</td>\n",
       "      <td>2081-02-02 15:00:00</td>\n",
       "      <td>2081-02-02 15:30:00</td>\n",
       "      <td>NaT</td>\n",
       "      <td>110000.0</td>\n",
       "      <td>125000.0</td>\n",
       "    </tr>\n",
       "  </tbody>\n",
       "</table>\n",
       "</div>"
      ],
      "text/plain": [
       "   AssignmentID  BookingID  AgentID  PackageRevenue BookingStatus  \\\n",
       "0             1        1.0        7         25000.0     Confirmed   \n",
       "1             2        2.0       14         20000.0     Cancelled   \n",
       "2             3        NaN        3             NaN          None   \n",
       "3             4        3.0       25         30000.0     Confirmed   \n",
       "4             5        4.0        7         25000.0     Cancelled   \n",
       "5             6        5.0       17         25000.0     Confirmed   \n",
       "6             7        NaN        9             NaN          None   \n",
       "7             8        6.0       14         30000.0     Confirmed   \n",
       "8             9        7.0       28         20000.0       Pending   \n",
       "9            10        8.0        1         15000.0     Confirmed   \n",
       "\n",
       "     CustomerName CommunicationMethod LeadSource Destination  \\\n",
       "0   Evelyn Brooks          Phone Call    Organic        Mars   \n",
       "1      Lucas Chen                Text     Bought      Europa   \n",
       "2     Amara Patel                Text    Organic        None   \n",
       "3      Jasper Kim          Phone Call     Bought       Titan   \n",
       "4      Zara Singh                Text    Organic        Mars   \n",
       "5      Milo Davis          Phone Call     Bought       Venus   \n",
       "6  Aurora Ramirez                Text    Organic        None   \n",
       "7      Theo White          Phone Call    Organic        Mars   \n",
       "8     Isla Nguyen                Text     Bought      Europa   \n",
       "9     Rowan Scott          Phone Call    Organic    Ganymede   \n",
       "\n",
       "                     LaunchLocation                   JobTitle  \\\n",
       "0  Dallas-Fort Worth Launch Complex         Space Travel Agent   \n",
       "1          New York Orbital Gateway    Lead Space Travel Agent   \n",
       "2                              None  Senior Space Travel Agent   \n",
       "3          Dubai Interplanetary Hub         Space Travel Agent   \n",
       "4  Dallas-Fort Worth Launch Complex         Space Travel Agent   \n",
       "5          Tokyo Spaceport Terminal         Space Travel Agent   \n",
       "6                              None         Space Travel Agent   \n",
       "7          New York Orbital Gateway    Lead Space Travel Agent   \n",
       "8         London Ascension Platform         Space Travel Agent   \n",
       "9               Sydney Stellar Port  Senior Space Travel Agent   \n",
       "\n",
       "         DepartmentName    ManagerName  YearsOfService  \\\n",
       "0  Interplanetary Sales      Lyra Chen               4   \n",
       "1        Luxury Voyages  Zane Holloway              16   \n",
       "2      Premium Bookings  Zane Holloway              15   \n",
       "3  Interplanetary Sales      Lyra Chen               5   \n",
       "4  Interplanetary Sales      Lyra Chen               4   \n",
       "5        Luxury Voyages      Lyra Chen               3   \n",
       "6      Premium Bookings  Zane Holloway               6   \n",
       "7        Luxury Voyages  Zane Holloway              16   \n",
       "8  Interplanetary Sales      Lyra Chen               6   \n",
       "9  Interplanetary Sales      Lyra Chen              12   \n",
       "\n",
       "   AverageCustomerServiceRating    AssignedDateTime BookingCompleteDate  \\\n",
       "0                           4.5 2081-02-01 09:00:00 2081-02-01 10:00:00   \n",
       "1                           4.2 2081-02-01 10:30:00                 NaT   \n",
       "2                           4.0 2081-02-01 11:15:00                 NaT   \n",
       "3                           4.4 2081-02-01 13:00:00 2081-02-01 13:30:00   \n",
       "4                           4.5 2081-02-01 14:20:00                 NaT   \n",
       "5                           3.3 2081-02-02 09:45:00 2081-02-02 10:00:00   \n",
       "6                           4.4 2081-02-02 10:10:00                 NaT   \n",
       "7                           4.2 2081-02-02 11:55:00 2081-02-02 12:00:00   \n",
       "8                           4.9 2081-02-02 13:40:00                 NaT   \n",
       "9                           4.0 2081-02-02 15:00:00 2081-02-02 15:30:00   \n",
       "\n",
       "        CancelledDate  DestinationRevenue  TotalRevenue  \n",
       "0                 NaT            150000.0      175000.0  \n",
       "1 2081-02-01 11:00:00            120000.0      140000.0  \n",
       "2                 NaT                 NaN           NaN  \n",
       "3                 NaT            140000.0      170000.0  \n",
       "4 2081-02-01 15:10:00            150000.0      175000.0  \n",
       "5                 NaT            130000.0      155000.0  \n",
       "6                 NaT                 NaN           NaN  \n",
       "7                 NaT            150000.0      180000.0  \n",
       "8                 NaT            125000.0      145000.0  \n",
       "9                 NaT            110000.0      125000.0  "
      ]
     },
     "execution_count": 8,
     "metadata": {},
     "output_type": "execute_result"
    }
   ],
   "source": [
    "dataset_df.head(10)"
   ]
  },
  {
   "cell_type": "code",
   "execution_count": null,
   "id": "7c87f485-2b28-4061-a352-6a6bf530f794",
   "metadata": {},
   "outputs": [],
   "source": []
  },
  {
   "cell_type": "code",
   "execution_count": 8,
   "id": "0aff32ef-c073-40f8-b5c5-c6deee2af661",
   "metadata": {},
   "outputs": [
    {
     "data": {
      "text/plain": [
       "Index(['AssignmentID', 'BookingID', 'AgentID', 'PackageRevenue',\n",
       "       'BookingStatus', 'CustomerName', 'CommunicationMethod', 'LeadSource',\n",
       "       'Destination', 'LaunchLocation', 'JobTitle', 'DepartmentName',\n",
       "       'ManagerName', 'YearsOfService', 'AverageCustomerServiceRating',\n",
       "       'AssignedDateTime', 'BookingCompleteDate', 'CancelledDate',\n",
       "       'DestinationRevenue', 'TotalRevenue'],\n",
       "      dtype='object')"
      ]
     },
     "execution_count": 8,
     "metadata": {},
     "output_type": "execute_result"
    }
   ],
   "source": [
    "dataset_df.columns"
   ]
  },
  {
   "cell_type": "markdown",
   "id": "f5eb8d1e-69e0-4f94-82e4-6af8e7204b78",
   "metadata": {},
   "source": [
    "## Single Gradient Boosting model\n",
    "Basic prediction at agent level of `ActualizedRevenue` := `PackageRevenue` if `'Confirmed'` else `0`.\n",
    "* Ignore Assignments that don't have a related Booking\n",
    "* Drop `Pending` Bookings.\n",
    "\n",
    "**Details**\n",
    "|  |  |\n",
    "|--|--|\n",
    "| Model | [`HistGradientBoostingRegressor`](https://scikit-learn.org/stable/modules/generated/sklearn.ensemble.HistGradientBoostingRegressor.html#histgradientboostingregressor) |\n",
    "| Dependent Variable | Agent's `ActualizedRevenue` := `PackageRevenue` if `'Confirmed'` else `0` |\n",
    "| Independent Variables | `['CommunicationMethod', 'LeadSource', 'Destination', 'LaunchLocation', 'AgentID', 'JobTitle', 'DepartmentName', 'YearsOfService', 'AverageCustomerServiceRating']` |"
   ]
  },
  {
   "cell_type": "code",
   "execution_count": 9,
   "id": "3868326c-d5be-4940-b40e-edd2eb4edb14",
   "metadata": {},
   "outputs": [
    {
     "name": "stdout",
     "output_type": "stream",
     "text": [
      "Num obs: 392\n",
      "9 features. 7 categorical, 2 numerical.\n"
     ]
    }
   ],
   "source": [
    "# drop where no booking data or booking pending\n",
    "df = dataset_df[~(dataset_df['BookingID'].isna() | (dataset_df['BookingStatus'] == 'Pending'))].reset_index()\n",
    "\n",
    "categorical_vars = [\n",
    "    'CommunicationMethod', 'LeadSource', 'Destination', \n",
    "    'LaunchLocation', 'AgentID', 'JobTitle', 'DepartmentName'\n",
    "]\n",
    "numerical_vars = ['YearsOfService', 'AverageCustomerServiceRating']\n",
    "\n",
    "X = df[categorical_vars + numerical_vars]\n",
    "\n",
    "y = df['PackageRevenue'].where(df['BookingStatus']=='Confirmed', 0.0)\n",
    "\n",
    "gbr_model = HistGradientBoostingRegressor(\n",
    "    loss='poisson',  # because y non-negative\n",
    "    categorical_features=categorical_vars,\n",
    "    random_state=SEED,\n",
    ")\n",
    "\n",
    "print(f'Num obs: {X.shape[0]}')\n",
    "print(f'{X.shape[1]} features. {len(categorical_vars)} categorical, {len(numerical_vars)} numerical.')"
   ]
  },
  {
   "cell_type": "code",
   "execution_count": 10,
   "id": "ecf0621a-495c-4b2c-b927-0c579cff8f53",
   "metadata": {},
   "outputs": [
    {
     "name": "stdout",
     "output_type": "stream",
     "text": [
      "CPU times: user 1.98 s, sys: 133 ms, total: 2.11 s\n",
      "Wall time: 3.98 s\n"
     ]
    }
   ],
   "source": [
    "%%time\n",
    "result = cross_validate(gbr_model, X, y)"
   ]
  },
  {
   "cell_type": "code",
   "execution_count": 11,
   "id": "41f638a4-df93-4b3b-bbf8-e5d4036e3132",
   "metadata": {},
   "outputs": [
    {
     "data": {
      "text/plain": [
       "{'fit_time': array([2.88243794, 0.22455668, 0.3877871 , 0.16787815, 0.21736932]),\n",
       " 'score_time': array([0.01702285, 0.0442121 , 0.00869918, 0.00753284, 0.01153159]),\n",
       " 'test_score': array([-0.20425296, -0.14666003, -0.50537806, -0.1697015 , -0.10366318])}"
      ]
     },
     "execution_count": 11,
     "metadata": {},
     "output_type": "execute_result"
    }
   ],
   "source": [
    "result\n",
    "# no good"
   ]
  },
  {
   "cell_type": "code",
   "execution_count": null,
   "id": "3a718606-eae8-4f72-b813-583d8cfaf17d",
   "metadata": {},
   "outputs": [],
   "source": []
  },
  {
   "cell_type": "markdown",
   "id": "1447f6d5-7dd4-4b83-9bfe-9872084c196d",
   "metadata": {},
   "source": [
    "## Predicting only `'Confirmed'` `PackageRevenue`\n",
    "Basic prediction at agent level of `PackageRevenue` if `'Confirmed'`.\n",
    "* Ignore Assignments that don't have a related Booking\n",
    "* Drop `'Pending'` and `'Cancelled'` Bookings.\n",
    "\n",
    "**Details**\n",
    "|  |  |\n",
    "|--|--|\n",
    "| Model | [`HistGradientBoostingRegressor`](https://scikit-learn.org/stable/modules/generated/sklearn.ensemble.HistGradientBoostingRegressor.html#histgradientboostingregressor) |\n",
    "| Dependent Variable | Agent's `PackageRevenue` if `'Confirmed'` |\n",
    "| Independent Variables | `['CommunicationMethod', 'LeadSource', 'Destination', 'LaunchLocation', 'AgentID', 'JobTitle', 'DepartmentName', 'YearsOfService', 'AverageCustomerServiceRating']` |"
   ]
  },
  {
   "cell_type": "code",
   "execution_count": 12,
   "id": "b51a3707-587f-4f74-953c-e825bcd96842",
   "metadata": {},
   "outputs": [
    {
     "name": "stdout",
     "output_type": "stream",
     "text": [
      "Num obs: 297\n",
      "9 features. 7 categorical, 2 numerical.\n"
     ]
    }
   ],
   "source": [
    "# drop where no booking data or booking pending\n",
    "df = dataset_df[dataset_df['BookingStatus'] == 'Confirmed'].reset_index()\n",
    "\n",
    "categorical_vars = [\n",
    "    'CommunicationMethod', 'LeadSource', 'Destination', \n",
    "    'LaunchLocation', 'AgentID', 'JobTitle', 'DepartmentName'\n",
    "]\n",
    "numerical_vars = ['YearsOfService', 'AverageCustomerServiceRating']\n",
    "\n",
    "X = df[categorical_vars + numerical_vars]\n",
    "\n",
    "y = df['PackageRevenue']\n",
    "\n",
    "gbr_model = HistGradientBoostingRegressor(\n",
    "    loss='poisson',  # because y non-negative\n",
    "    categorical_features=categorical_vars,\n",
    "    random_state=SEED,\n",
    ")\n",
    "\n",
    "print(f'Num obs: {X.shape[0]}')\n",
    "print(f'{X.shape[1]} features. {len(categorical_vars)} categorical, {len(numerical_vars)} numerical.')"
   ]
  },
  {
   "cell_type": "code",
   "execution_count": 13,
   "id": "1d34b307-c940-4027-bac9-5f9243c42567",
   "metadata": {},
   "outputs": [
    {
     "name": "stdout",
     "output_type": "stream",
     "text": [
      "CPU times: user 1.03 s, sys: 29 ms, total: 1.06 s\n",
      "Wall time: 617 ms\n"
     ]
    }
   ],
   "source": [
    "%%time\n",
    "result = cross_validate(gbr_model, X, y)"
   ]
  },
  {
   "cell_type": "code",
   "execution_count": 14,
   "id": "2977290f-79b6-4572-aa3f-73984207cb81",
   "metadata": {},
   "outputs": [
    {
     "data": {
      "text/plain": [
       "{'fit_time': array([0.14040399, 0.10178804, 0.09709883, 0.13653135, 0.09704399]),\n",
       " 'score_time': array([0.00750279, 0.00721502, 0.01005101, 0.00697398, 0.00701904]),\n",
       " 'test_score': array([-0.13952736, -0.56033317,  0.2147542 ,  0.08852657,  0.19851088])}"
      ]
     },
     "execution_count": 14,
     "metadata": {},
     "output_type": "execute_result"
    }
   ],
   "source": [
    "result\n",
    "# no good"
   ]
  },
  {
   "cell_type": "code",
   "execution_count": null,
   "id": "3e9d8d7f-0fc6-4e31-9ad4-6a43598cb310",
   "metadata": {},
   "outputs": [],
   "source": []
  },
  {
   "cell_type": "markdown",
   "id": "b7948683-ea3c-4ae9-8bb8-1cb5e84fa597",
   "metadata": {},
   "source": [
    "## Classifying `PackageRevenue` when `'Confirmed'` \n",
    "`PackageRevenue` is in increments of 5k from 0 to 30k. \n",
    "Let's try to classify if it's 30k, 25k, 20k, >=15k. \n",
    "This will put >=29 obs / class with least in the >=15k class. \n",
    "\n",
    "* Ignore Assignments that don't have a related Booking\n",
    "* Drop `'Pending'` and `'Cancelled'` Bookings.\n",
    "\n",
    "**Details**\n",
    "|  |  |\n",
    "|--|--|\n",
    "| Model | [`HistGradientBoostingClassifier`](https://scikit-learn.org/stable/modules/generated/sklearn.ensemble.HistGradientBoostingClassifier.html) |\n",
    "| Dependent Variable | Agent's `PackageRevenue` if `'Confirmed'` bucketed as explained above |\n",
    "| Independent Variables | `['CommunicationMethod', 'LeadSource', 'Destination', 'LaunchLocation', 'AgentID', 'JobTitle', 'DepartmentName', 'YearsOfService', 'AverageCustomerServiceRating']` |"
   ]
  },
  {
   "cell_type": "code",
   "execution_count": 15,
   "id": "86fbb7a4-5b84-4a3b-aa87-3324d5d93c9f",
   "metadata": {},
   "outputs": [],
   "source": [
    "# drop where no booking data or booking pending\n",
    "df = dataset_df[dataset_df['BookingStatus'] == 'Confirmed'].reset_index()"
   ]
  },
  {
   "cell_type": "code",
   "execution_count": null,
   "id": "c544b1e1-5233-4e65-acb3-e31a51482d65",
   "metadata": {},
   "outputs": [],
   "source": [
    "categorical_vars = [\n",
    "    'CommunicationMethod', 'LeadSource', 'Destination', \n",
    "    'LaunchLocation', 'AgentID', 'JobTitle', 'DepartmentName'\n",
    "]\n",
    "numerical_vars = ['YearsOfService', 'AverageCustomerServiceRating']\n",
    "\n",
    "X = df[categorical_vars + numerical_vars]\n",
    "\n",
    "y = df['PackageRevenue'].where(df['PackageRevenue'] > 15000, 15000)\n",
    "\n",
    "gbr_model = HistGradientBoostingClassifier(\n",
    "    learning_rate=0.3,\n",
    "    categorical_features=categorical_vars,\n",
    "    min_samples_leaf=10,  # since such small sample size\n",
    "    random_state=SEED,\n",
    ")\n",
    "\n",
    "print(f'Num obs: {X.shape[0]}')\n",
    "print(f'{X.shape[1]} features. {len(categorical_vars)} categorical, {len(numerical_vars)} numerical.')"
   ]
  },
  {
   "cell_type": "code",
   "execution_count": 22,
   "id": "df8fec78-24b9-420c-955a-bca9cb2cb029",
   "metadata": {},
   "outputs": [
    {
     "name": "stdout",
     "output_type": "stream",
     "text": [
      "CPU times: user 5.28 s, sys: 99.6 ms, total: 5.38 s\n",
      "Wall time: 2.92 s\n"
     ]
    }
   ],
   "source": [
    "%%time\n",
    "result = cross_validate(gbr_model, X, y)"
   ]
  },
  {
   "cell_type": "code",
   "execution_count": 23,
   "id": "c53f3751-d41a-4bd4-b8bb-a3495d29f38c",
   "metadata": {},
   "outputs": [
    {
     "data": {
      "text/plain": [
       "{'fit_time': array([0.62742805, 0.52521706, 0.5075562 , 0.61850286, 0.56614828]),\n",
       " 'score_time': array([0.01590395, 0.01155996, 0.01201415, 0.01203775, 0.01139784]),\n",
       " 'test_score': array([0.26666667, 0.38333333, 0.44067797, 0.49152542, 0.40677966])}"
      ]
     },
     "execution_count": 23,
     "metadata": {},
     "output_type": "execute_result"
    }
   ],
   "source": [
    "result\n",
    "# better only in relation to the ones above"
   ]
  },
  {
   "cell_type": "code",
   "execution_count": null,
   "id": "ba16aa53-add3-4dc3-bec1-fc62d598c4f1",
   "metadata": {},
   "outputs": [],
   "source": []
  },
  {
   "cell_type": "markdown",
   "id": "b0e8cf47-92cc-4151-a0b6-3a8e1e4991a8",
   "metadata": {},
   "source": [
    "## Classifying `PackageRevenue` when `'Confirmed'` w/o kitchen sink\n",
    "`PackageRevenue` is in increments of 5k from 0 to 30k. \n",
    "Let's try to classify if it's 30k, 25k, 20k, >=15k. \n",
    "This will put >=29 obs / class with least in the >=15k class. \n",
    "\n",
    "* Including only select indep vars\n",
    "* Ignore Assignments that don't have a related Booking\n",
    "* Drop `'Pending'` and `'Cancelled'` Bookings.\n",
    "\n",
    "**Details**\n",
    "|  |  |\n",
    "|--|--|\n",
    "| Model | [`HistGradientBoostingClassifier`](https://scikit-learn.org/stable/modules/generated/sklearn.ensemble.HistGradientBoostingClassifier.html) |\n",
    "| Dependent Variable | Agent's `PackageRevenue` if `'Confirmed'` bucketed as explained above |\n",
    "| Independent Variables | `['Destination', 'AgentID', 'DepartmentName', 'YearsOfService', 'AverageCustomerServiceRating']` |"
   ]
  },
  {
   "cell_type": "code",
   "execution_count": 24,
   "id": "d8fccccc-58fa-4d8f-a879-3962ac6e6c4c",
   "metadata": {},
   "outputs": [],
   "source": [
    "# drop where no booking data or booking pending\n",
    "df = dataset_df[dataset_df['BookingStatus'] == 'Confirmed'].reset_index()"
   ]
  },
  {
   "cell_type": "code",
   "execution_count": 29,
   "id": "ccb94c13-fdd0-4f3c-b596-2984d545f2a2",
   "metadata": {},
   "outputs": [
    {
     "name": "stdout",
     "output_type": "stream",
     "text": [
      "Num obs: 297\n",
      "5 features. 3 categorical, 2 numerical.\n"
     ]
    }
   ],
   "source": [
    "categorical_vars = ['Destination', 'AgentID', 'DepartmentName']\n",
    "numerical_vars = ['YearsOfService', 'AverageCustomerServiceRating']\n",
    "\n",
    "X = df[categorical_vars + numerical_vars]\n",
    "\n",
    "y = df['PackageRevenue'].where(df['PackageRevenue'] > 15000, 15000)\n",
    "\n",
    "gbr_model = HistGradientBoostingClassifier(\n",
    "    learning_rate=0.3,\n",
    "    categorical_features=categorical_vars,\n",
    "    min_samples_leaf=10,  # since such small sample size\n",
    "    random_state=SEED,\n",
    ")\n",
    "\n",
    "print(f'Num obs: {X.shape[0]}')\n",
    "print(f'{X.shape[1]} features. {len(categorical_vars)} categorical, {len(numerical_vars)} numerical.')"
   ]
  },
  {
   "cell_type": "code",
   "execution_count": 30,
   "id": "02e7ead0-9fd2-4163-bf9e-3a5861001a83",
   "metadata": {},
   "outputs": [
    {
     "name": "stdout",
     "output_type": "stream",
     "text": [
      "CPU times: user 4.77 s, sys: 54.1 ms, total: 4.83 s\n",
      "Wall time: 2.56 s\n"
     ]
    }
   ],
   "source": [
    "%%time\n",
    "result = cross_validate(gbr_model, X, y)"
   ]
  },
  {
   "cell_type": "code",
   "execution_count": 32,
   "id": "eae82d6a-3116-45fd-b73f-b643deddc287",
   "metadata": {},
   "outputs": [
    {
     "data": {
      "text/plain": [
       "{'fit_time': array([0.56958485, 0.50992012, 0.48254108, 0.46549797, 0.46697307]),\n",
       " 'score_time': array([0.01083612, 0.01534891, 0.01117015, 0.01051474, 0.01043701]),\n",
       " 'test_score': array([0.15      , 0.21666667, 0.44067797, 0.42372881, 0.25423729])}"
      ]
     },
     "execution_count": 32,
     "metadata": {},
     "output_type": "execute_result"
    }
   ],
   "source": [
    "result"
   ]
  },
  {
   "cell_type": "code",
   "execution_count": null,
   "id": "dd89ae33-6844-4119-a522-351194b85719",
   "metadata": {},
   "outputs": [],
   "source": []
  },
  {
   "cell_type": "markdown",
   "id": "b8989cd3-bc67-437b-bb84-74879541395b",
   "metadata": {},
   "source": [
    "## Classifying `PackageRevenue` when `'Confirmed'` \n",
    "`PackageRevenue` is in increments of 5k from 0 to 30k. \n",
    "Let's try to classify if it's 30k, 25k, 20k, >=15k. \n",
    "This will put >=29 obs / class with least in the >=15k class. \n",
    "\n",
    "* Ignore Assignments that don't have a related Booking\n",
    "* Drop `'Pending'` and `'Cancelled'` Bookings.\n",
    "\n",
    "**Details**\n",
    "|  |  |\n",
    "|--|--|\n",
    "| Model | [`HistGradientBoostingClassifier`](https://scikit-learn.org/stable/modules/generated/sklearn.ensemble.HistGradientBoostingClassifier.html) |\n",
    "| Dependent Variable | Agent's `PackageRevenue` if `'Confirmed'` bucketed as explained above |\n",
    "| Independent Variables | `['CommunicationMethod', 'LeadSource', 'Destination', 'LaunchLocation', 'AgentID', 'JobTitle', 'DepartmentName', 'YearsOfService', 'AverageCustomerServiceRating']` |"
   ]
  },
  {
   "cell_type": "code",
   "execution_count": 15,
   "id": "e5080281-035f-4c23-b55e-915255ddf17d",
   "metadata": {},
   "outputs": [],
   "source": [
    "# drop where no booking data or booking pending\n",
    "df = dataset_df[dataset_df['BookingStatus'] == 'Confirmed'].reset_index()"
   ]
  },
  {
   "cell_type": "code",
   "execution_count": null,
   "id": "f6321be6-3ae4-4b93-b555-703f2f57c3d8",
   "metadata": {},
   "outputs": [],
   "source": [
    "categorical_vars = [\n",
    "    'CommunicationMethod', 'LeadSource', 'Destination', \n",
    "    'LaunchLocation', 'AgentID', 'JobTitle', 'DepartmentName'\n",
    "]\n",
    "numerical_vars = ['YearsOfService', 'AverageCustomerServiceRating']\n",
    "\n",
    "X = df[categorical_vars + numerical_vars]\n",
    "\n",
    "y = df['PackageRevenue'].where(df['PackageRevenue'] > 15000, 15000)\n",
    "\n",
    "gbr_model = HistGradientBoostingClassifier(\n",
    "    learning_rate=0.3,\n",
    "    categorical_features=categorical_vars,\n",
    "    min_samples_leaf=10,  # since such small sample size\n",
    "    random_state=SEED,\n",
    ")\n",
    "\n",
    "print(f'Num obs: {X.shape[0]}')\n",
    "print(f'{X.shape[1]} features. {len(categorical_vars)} categorical, {len(numerical_vars)} numerical.')"
   ]
  },
  {
   "cell_type": "code",
   "execution_count": 22,
   "id": "f2c46eaa-05be-4894-a9ce-dbf3ffda4801",
   "metadata": {},
   "outputs": [
    {
     "name": "stdout",
     "output_type": "stream",
     "text": [
      "CPU times: user 5.28 s, sys: 99.6 ms, total: 5.38 s\n",
      "Wall time: 2.92 s\n"
     ]
    }
   ],
   "source": [
    "%%time\n",
    "result = cross_validate(gbr_model, X, y)"
   ]
  },
  {
   "cell_type": "code",
   "execution_count": 23,
   "id": "b0a6a933-06d7-4f9f-9338-6bd4fb2d4de1",
   "metadata": {},
   "outputs": [
    {
     "data": {
      "text/plain": [
       "{'fit_time': array([0.62742805, 0.52521706, 0.5075562 , 0.61850286, 0.56614828]),\n",
       " 'score_time': array([0.01590395, 0.01155996, 0.01201415, 0.01203775, 0.01139784]),\n",
       " 'test_score': array([0.26666667, 0.38333333, 0.44067797, 0.49152542, 0.40677966])}"
      ]
     },
     "execution_count": 23,
     "metadata": {},
     "output_type": "execute_result"
    }
   ],
   "source": [
    "result\n",
    "# better only in relation to the ones above"
   ]
  }
 ],
 "metadata": {
  "kernelspec": {
   "display_name": "venv",
   "language": "python",
   "name": "venv"
  },
  "language_info": {
   "codemirror_mode": {
    "name": "ipython",
    "version": 3
   },
   "file_extension": ".py",
   "mimetype": "text/x-python",
   "name": "python",
   "nbconvert_exporter": "python",
   "pygments_lexer": "ipython3",
   "version": "3.13.3"
  }
 },
 "nbformat": 4,
 "nbformat_minor": 5
}
